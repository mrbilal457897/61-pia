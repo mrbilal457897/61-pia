{
  "nbformat": 4,
  "nbformat_minor": 0,
  "metadata": {
    "colab": {
      "provenance": [],
      "gpuType": "T4",
      "authorship_tag": "ABX9TyNNO8MYPtOIdpfGpIpBRbZ4",
      "include_colab_link": true
    },
    "kernelspec": {
      "name": "python3",
      "display_name": "Python 3"
    },
    "language_info": {
      "name": "python"
    },
    "accelerator": "GPU"
  },
  "cells": [
    {
      "cell_type": "markdown",
      "metadata": {
        "id": "view-in-github",
        "colab_type": "text"
      },
      "source": [
        "<a href=\"https://colab.research.google.com/github/mrbilal457897/61-pia/blob/main/Project_01_Langchain_Hello_World_.ipynb\" target=\"_parent\"><img src=\"https://colab.research.google.com/assets/colab-badge.svg\" alt=\"Open In Colab\"/></a>"
      ]
    },
    {
      "cell_type": "code",
      "execution_count": 3,
      "metadata": {
        "colab": {
          "base_uri": "https://localhost:8080/"
        },
        "id": "_zXdcyFz3mgT",
        "outputId": "078a0f0b-695e-4054-a7ef-e9c80eefbc39"
      },
      "outputs": [
        {
          "output_type": "stream",
          "name": "stdout",
          "text": [
            "Answer: Okay, let's break down what machine learning is.\n",
            "\n",
            "At its core, **machine learning (ML) is a field of artificial intelligence (AI) that focuses on enabling computer systems to learn from data without being explicitly programmed.** Instead of relying on hard-coded rules, ML algorithms are designed to identify patterns, make predictions, and improve their performance over time as they are exposed to more data.\n",
            "\n",
            "Here's a more detailed breakdown:\n",
            "\n",
            "**Key Concepts:**\n",
            "\n",
            "* **Data:** ML algorithms thrive on data. This can be anything from numerical data (like sales figures, stock prices) to text, images, audio, and video. The quality and quantity of data greatly impact the effectiveness of the model.\n",
            "* **Algorithms:** These are the mathematical procedures that allow the system to learn from data. Different algorithms are suited for different types of problems (e.g., classification, regression, clustering).\n",
            "* **Learning:** This is the process where the algorithm adjusts its internal parameters based on the data it receives. The goal is to minimize errors and improve its ability to perform the desired task.\n",
            "* **Prediction/Inference:** Once trained, the model can make predictions on new, unseen data. This might be classifying an image, predicting customer behavior, or forecasting future trends.\n",
            "* **Improvement:** As the model processes more data, it often becomes more accurate and efficient. This iterative improvement is a fundamental aspect of machine learning.\n",
            "\n",
            "**How Machine Learning Works (Simplified):**\n",
            "\n",
            "1. **Data Gathering:** Collect and prepare the relevant data. This may involve cleaning, transforming, and organizing the data.\n",
            "2. **Model Selection:** Choose an appropriate ML algorithm for the task at hand.\n",
            "3. **Training:** Feed the prepared data into the chosen algorithm. The algorithm learns patterns and relationships within the data.\n",
            "4. **Evaluation:** Assess the model's performance on a separate dataset to see how well it generalizes to new data.\n",
            "5. **Tuning and Refinement:** Adjust the model's parameters to optimize its performance.\n",
            "6. **Deployment:** Integrate the trained model into a system to perform predictions on new data.\n",
            "\n",
            "**Types of Machine Learning:**\n",
            "\n",
            "Machine learning is often categorized into several types:\n",
            "\n",
            "* **Supervised Learning:** The model is trained on labeled data (input data with corresponding desired outputs). Examples include image classification, spam filtering, and regression for predicting housing prices.\n",
            "* **Unsupervised Learning:** The model is trained on unlabeled data and must find patterns or structures on its own. Examples include clustering data points, dimensionality reduction, and anomaly detection.\n",
            "* **Reinforcement Learning:** The model learns through trial and error by interacting with an environment and receiving rewards or penalties. Examples include training robots to perform tasks and playing games.\n",
            "\n",
            "**Why is Machine Learning Important?**\n",
            "\n",
            "Machine learning is transforming numerous industries and aspects of our lives because it allows us to:\n",
            "\n",
            "* **Automate complex tasks:** Perform tasks that are difficult or impossible to program with traditional methods.\n",
            "* **Analyze large datasets:** Gain insights from massive amounts of data that would be impossible for humans to process manually.\n",
            "* **Make better predictions:** Develop models that can predict future outcomes with greater accuracy.\n",
            "* **Personalize experiences:** Offer tailored recommendations and customized services based on user preferences.\n",
            "* **Solve complex problems:** Tackle real-world challenges in fields such as healthcare, finance, transportation, and environmental science.\n",
            "\n",
            "**In summary:**\n",
            "\n",
            "Machine learning is a powerful tool that empowers computers to learn from data and make intelligent decisions. It is a rapidly evolving field with the potential to revolutionize various aspects of our lives and continue to shape the future of technology.\n",
            "\n",
            "Let me know if you have any more questions!\n",
            "\n"
          ]
        }
      ],
      "source": [
        "!pip -q  install langchain-google-genai\n",
        "\n",
        "from langchain.prompts import PromptTemplate\n",
        "from langchain_google_genai import ChatGoogleGenerativeAI\n",
        "from langchain.chains import LLMChain\n",
        "from google.colab import userdata\n",
        "\n",
        "import os\n",
        "os.environ[\"GOOGLE_API_KEY\"] = userdata.get(\"GOOGLE_API_KEY\")\n",
        "\n",
        "llm = ChatGoogleGenerativeAI(\n",
        "    model=\"gemini-2.0-flash-exp\",\n",
        "    temperature=0.9,\n",
        "    api_key=os.environ[\"GOOGLE_API_KEY\"])\n",
        "\n",
        "prompt_template = PromptTemplate(\n",
        "    input_variables=[\"question\"],\n",
        "    template=\"You are a helpful assistant. Answer the following question:\\n\\n{question}\"\n",
        ")\n",
        "\n",
        "chain = LLMChain(llm=llm, prompt=prompt_template)\n",
        "\n",
        "question = \"what is machine learning?\"\n",
        "response = chain.run({\"question\": question})\n",
        "\n",
        "print(\"Answer:\", response)"
      ]
    }
  ]
}